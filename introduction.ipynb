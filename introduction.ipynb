{
  "nbformat": 4,
  "nbformat_minor": 0,
  "metadata": {
    "colab": {
      "provenance": [],
      "authorship_tag": "ABX9TyN+/b3suJ1DdRUqso2nfk7a",
      "include_colab_link": true
    },
    "kernelspec": {
      "name": "python3",
      "display_name": "Python 3"
    },
    "language_info": {
      "name": "python"
    }
  },
  "cells": [
    {
      "cell_type": "markdown",
      "metadata": {
        "id": "view-in-github",
        "colab_type": "text"
      },
      "source": [
        "<a href=\"https://colab.research.google.com/github/HedersonSantos/reinforcementLearning/blob/main/introduction.ipynb\" target=\"_parent\"><img src=\"https://colab.research.google.com/assets/colab-badge.svg\" alt=\"Open In Colab\"/></a>"
      ]
    },
    {
      "cell_type": "code",
      "execution_count": null,
      "metadata": {
        "id": "svny5ktqDEWj"
      },
      "outputs": [],
      "source": [
        "import numpy as np\n",
        "ACTIONS = {'U': (-1, 0), 'D': (1, 0), 'L': (0, -1), 'R': (0, 1)}\n",
        "class Maze(object):\n",
        "    def __init__(self):\n",
        "        # start with defining your maze\n",
        "        self.maze = np.zeroes((6, 6))\n",
        "        self.maze[0, 0] = 2\n",
        "        self.maze[5, :5] = 1\n",
        "        self.maze[:4, 5] = 1\n",
        "        self.maze[2, 2:] = 1\n",
        "        self.maze[3, 2] = 1\n",
        "        self.robot_position = (0, 0) # current robot position\n",
        "        self.steps = 0 # contains num steps robot took\n",
        "        self.allowed_states = None # for now, this is none\n",
        "        self.construct_allowed_states() # not implemented yet"
      ]
    }
  ]
}