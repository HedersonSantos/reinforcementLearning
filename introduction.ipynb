{
  "nbformat": 4,
  "nbformat_minor": 0,
  "metadata": {
    "colab": {
      "provenance": [],
      "authorship_tag": "ABX9TyOVUsiBZQOpEJkD0FCdB7Gh",
      "include_colab_link": true
    },
    "kernelspec": {
      "name": "python3",
      "display_name": "Python 3"
    },
    "language_info": {
      "name": "python"
    }
  },
  "cells": [
    {
      "cell_type": "markdown",
      "metadata": {
        "id": "view-in-github",
        "colab_type": "text"
      },
      "source": [
        "<a href=\"https://colab.research.google.com/github/HedersonSantos/reinforcementLearning/blob/main/introduction.ipynb\" target=\"_parent\"><img src=\"https://colab.research.google.com/assets/colab-badge.svg\" alt=\"Open In Colab\"/></a>"
      ]
    },
    {
      "cell_type": "code",
      "execution_count": null,
      "metadata": {
        "id": "svny5ktqDEWj"
      },
      "outputs": [],
      "source": [
        "import numpy as np\n",
        "ACTIONS = {'U': (-1, 0), 'D': (1, 0), 'L': (0, -1), 'R': (0, 1)}\n",
        "class Maze(object):\n",
        "    def __init__(self):\n",
        "        # start with defining your maze\n",
        "        self.maze = np.zeroes((6, 6))\n",
        "        self.maze[0, 0] = 2\n",
        "        self.maze[5, :5] = 1\n",
        "        self.maze[:4, 5] = 1\n",
        "        self.maze[2, 2:] = 1\n",
        "        self.maze[3, 2] = 1\n",
        "        self.robot_position = (0, 0) # current robot position\n",
        "        self.steps = 0 # contains num steps robot took\n",
        "        self.allowed_states = None # for now, this is none\n",
        "        self.construct_allowed_states() # not implemented yet\n",
        "    def is_allowed_move(self, state, action):\n",
        "        y, x = state\n",
        "        y += ACTIONS[action][0]\n",
        "        x += ACTIONS[action][1]\n",
        "        # moving off the board\n",
        "        if y < 0 or x < 0 or y > 5 or x > 5:\n",
        "            return False\n",
        "        # moving into start position or empty space\n",
        "        if self.maze[y, x] == 0 or self.maze[y, x] == 2:\n",
        "            return True\n",
        "        else:\n",
        "            return False\n",
        "    def construct_allowed_states(self):\n",
        "        allowed_states = {}\n",
        "        for y, row in enumerate(self.maze):\n",
        "            for x, col in enumerate(row):\n",
        "                # iterate through all valid spaces\n",
        "                if self.maze[(y,x)] != 1:\n",
        "                    allowed_states[(y,x)] = []\n",
        "                    for action in ACTIONS:\n",
        "                        if self.is_allowed_move((y, x), action):\n",
        "                            allowed_states[(y,x)].append(action)\n",
        "        self.allowed_states = allowed_states\n",
        "    def update_maze(self, action):\n",
        "        y, x = self.robot_position\n",
        "        self.maze[y, x] = 0 # set the current position to empty\n",
        "        y += ACTIONS[action][0]\n",
        "        x += ACTIONS[action][1]\n",
        "        self.robot_position = (y, x)\n",
        "        self.maze[y, x] = 2\n",
        "        self.steps += 1\n",
        "    def is_game_over(self):\n",
        "        if self.robot_position == (5, 5):\n",
        "            return True\n",
        "        return False"
      ]
    },
    {
      "cell_type": "code",
      "source": [
        "class Agent(object):\n",
        "    def __init__(self, states, alpha=0.15, random_factor=0.2):\n",
        "        self.state_history = [((0, 0), 0)] # state, reward\n",
        "        self.alpha = alpha\n",
        "        self.random_factor = random_factor\n",
        "        \n",
        "        # start the rewards table\n",
        "        self.G = {}\n",
        "        self.init_reward(states)\n",
        "    def give_reward(self):\n",
        "        if self.robot_position == (5, 5):\n",
        "            return 0\n",
        "        else:\n",
        "            return -1\n",
        "    def get_state_and_reward(self):\n",
        "        return self.robot_position, self.give_reward()"
      ],
      "metadata": {
        "id": "GDX3gWmIFKW7"
      },
      "execution_count": null,
      "outputs": []
    }
  ]
}